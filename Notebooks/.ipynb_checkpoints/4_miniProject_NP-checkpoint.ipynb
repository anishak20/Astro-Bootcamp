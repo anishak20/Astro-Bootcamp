{
 "cells": [
  {
   "cell_type": "markdown",
   "metadata": {
    "id": "1bIjFhRtnJtj"
   },
   "source": [
    "### Setup Project\n",
    "\n",
    "- Create a Python virtual environment\n",
    "  \n",
    "  on your terminal type:\n",
    "```bash\n",
    "python3 -m venv py38\n",
    "```\n",
    "\n",
    "##### if you are on windows and above is not working, use the following:\n",
    "\n",
    "```bash\n",
    "python -m venv py311\n",
    "```\n",
    "\n",
    "- Activate the created environment\n",
    "\n",
    "```bash\n",
    "source py38/bin/activate\n",
    "```\n",
    "\n",
    "#### if you are on windows and above is not working, use the following:\n",
    "\n",
    "```bash\n",
    "activate py38\n",
    ". py38/bin/activate # if the above doesn't work\n",
    "./py38/scripts/activate.bat # if the above doesn't work\n",
    "./py38/Scripts/activate.bat # if the above doesn't work\n",
    "```\n",
    "\n",
    "- Fork the repository on github\n",
    "  \n",
    "  link for [github](https://github.com/avialxee/rgbmaker_miniproject.git)\n",
    "\n",
    "- Copy the new repository\n",
    "  \n",
    "  change the following with the repository link that you copied\n",
    "  ```bash\n",
    "  git clone https://github.com/avialxee/rgbmaker_miniproject.git\n",
    "  ```\n",
    "\n",
    "- Change directory to the project\n",
    "```bash\n",
    "cd rgbmaker_miniproject\n",
    "```\n",
    "\n",
    "- Install requirements:\n",
    "```bash\n",
    "pip install -r requirements.txt\n",
    "```"
   ]
  },
  {
   "cell_type": "markdown",
   "metadata": {
    "id": "zhVGDHSOgL3T"
   },
   "source": [
    "## Write a RGBC class inside `rgbmaker_miniproject/src/rgbc/__init__.py`\n",
    "\n",
    "So that the following runs the desired results\n",
    "\n",
    "```\n",
    "c = \"SkyCoord.coordinate of M 51\n",
    "size = 0.04 *u.deg\n",
    "\n",
    "# plot single survey image\n",
    "RGBC(position = c, radius=size, svy=[\"TGSS ADR1\"]).plot()\n",
    "\n",
    "# plot RGB image\n",
    "RGBC(position = c, radius = size, svy=[\"DSS2 IR\", \"DSS2 Red\", \"DSS2 Blue\"]).plot()\n",
    "\n",
    "# plot RGB-C image\n",
    "RGBC(position = c, radius = size, svy=[\"DSS2 IR\", \"DSS2 Red\", \"DSS2 Blue\", \"TGSS ADR1\"], cmin = 0.015, lvl = 4).plot()\n",
    "\n",
    "# Optional\n",
    "RGBC(position = c, radius=size.to_value('arcmin'), svy=['lofar']).plot()\n",
    "RGBC(position = c, radius=size.to_value('arcsec'), svy=['panstar']).plot()\n",
    "\n",
    "```"
   ]
  },
  {
   "cell_type": "code",
   "execution_count": 1,
   "metadata": {
    "id": "09i1a_CzgLFo"
   },
   "outputs": [],
   "source": [
    "class RGBC:\n",
    "  def __init__(self, position, radius, svy, cmin, lvl, kind='png'):\n",
    "    pass\n",
    "\n",
    "  def plot(self):\n",
    "    plt.ioff()\n",
    "    fig = plt.figure(figsize=(20, 20))\n",
    "    rows,columns, i = 1,1,1\n",
    "\n",
    "    ax = fig.add_subplot(rows, columns, i, projection=wcs)\n",
    "    if len(self.svy)==1:\n",
    "      pass\n",
    "\n",
    "    return save_fig(plt, fig, kind=self.kind, output='output.jpg')"
   ]
  },
  {
   "cell_type": "markdown",
   "metadata": {
    "id": "8SrjivAkxl-H"
   },
   "source": [
    "## Test code\n",
    "\n",
    "- Use terminal to change directory to your project directory\n",
    "```bash\n",
    "pip install -e .\n",
    "```\n",
    "\n",
    "This should installl the rgbc package to your python environment\n",
    "```bash\n",
    "rgbc -h\n",
    "```\n",
    "\n",
    "Test the following:\n",
    "```bash\n",
    "\n",
    "# single survey\n",
    "rgbc -p 'M 66' -s 'DSS2 Red' -r 0.12\n",
    "\n",
    "# RGB\n",
    "rgbc -p 'M 66' -s 'DSS2 IR,DSS2 Red,DSS2 Blue' -r 0.12\n",
    "\n",
    "# RGBC\n",
    "rgbc -p 'M 66' -s 'DSS2 IR,DSS2 Red,DSS2 Blue,TGSS ADR1' -r 0.12 -cmin 0.015\n",
    "```"
   ]
  },
  {
   "cell_type": "markdown",
   "metadata": {
    "id": "XMrPb9Jx1J3s"
   },
   "source": [
    "## Create Pull Request on Github\n",
    "\n",
    "```bash\n",
    "\n",
    "# check the status of changes/modifications on the repository\n",
    "git status\n",
    "\n",
    "# to create a commit\n",
    "git add .\n",
    "git commit -m \"my commit\"\n",
    "\n",
    "# to push changes on the repository\n",
    "git push\n",
    "\n",
    "```\n",
    "\n",
    "Github [Docs](https://docs.github.com/en/pull-requests/collaborating-with-pull-requests/proposing-changes-to-your-work-with-pull-requests/creating-a-pull-request-from-a-fork)"
   ]
  },
  {
   "cell_type": "code",
   "execution_count": null,
   "metadata": {
    "id": "y4dE1f6j15tX"
   },
   "outputs": [],
   "source": [
    "## Help"
   ]
  }
 ],
 "metadata": {
  "colab": {
   "provenance": []
  },
  "kernelspec": {
   "display_name": "Python 3 (ipykernel)",
   "language": "python",
   "name": "python3"
  },
  "language_info": {
   "codemirror_mode": {
    "name": "ipython",
    "version": 3
   },
   "file_extension": ".py",
   "mimetype": "text/x-python",
   "name": "python",
   "nbconvert_exporter": "python",
   "pygments_lexer": "ipython3",
   "version": "3.10.9"
  }
 },
 "nbformat": 4,
 "nbformat_minor": 1
}
