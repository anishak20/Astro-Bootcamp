{
 "cells": [
  {
   "cell_type": "markdown",
   "metadata": {
    "id": "fi8laABlEgM6"
   },
   "source": [
    "## Object-Oriented Programming (OOP)  : Classes\n",
    "\n",
    "### Object\n",
    "\n",
    "- Everything in python is an object\n",
    "  - Primitive Data Types\n",
    "  - Functions and Classes\n",
    "  - Modules\n",
    "\n",
    "### Encapsulation\n",
    "\n",
    "- To bundle the data (attributes) and methods (functions) that operate on the data into a single unit.\n",
    "\n",
    "\n",
    "- To hide the internal state of an object and only expose a controlled interface to the user\n",
    "\n",
    "\n",
    "- Python uses name mangling to make it harder to access private and protected members from outside the class.\n",
    "\n",
    "\n",
    "  - Private member: indicated by single underscore `_` in the beginning of the member name. Accessed inside Class.\n",
    "\n",
    "\n",
    "  - Protected member: indicated by double underscore `__` in the beginning of the member name. Accessible by subclasses.\n",
    "\n",
    "\n",
    "  - Public member: Can be accessed outside the class definition.\n",
    "\n"
   ]
  },
  {
   "cell_type": "markdown",
   "metadata": {
    "id": "slamrp4vEpU_"
   },
   "source": [
    "### Example 1: FileSize"
   ]
  },
  {
   "cell_type": "code",
   "execution_count": null,
   "metadata": {
    "colab": {
     "base_uri": "https://localhost:8080/"
    },
    "id": "w9_0ppm43KTd",
    "outputId": "66fd2a2b-1971-4fac-e724-3aa9634739bb"
   },
   "outputs": [
    {
     "name": "stdout",
     "output_type": "stream",
     "text": [
      "56827617\tsample_data\n"
     ]
    }
   ],
   "source": [
    "!du -sb sample_data"
   ]
  },
  {
   "cell_type": "code",
   "execution_count": null,
   "metadata": {
    "colab": {
     "base_uri": "https://localhost:8080/"
    },
    "id": "MtYn6k4GTh1g",
    "outputId": "e9271f7f-f8f0-41cc-9666-5a2a87330c99"
   },
   "outputs": [
    {
     "data": {
      "text/plain": [
       "56827617.0"
      ]
     },
     "execution_count": 4,
     "metadata": {},
     "output_type": "execute_result"
    }
   ],
   "source": [
    "import subprocess\n",
    "\n",
    "dest = 'sample_data'\n",
    "p = subprocess.run(['du', '-sb', dest], capture_output=True)\n",
    "float(p.stdout.split(b'\\t')[0])"
   ]
  },
  {
   "cell_type": "markdown",
   "metadata": {
    "id": "kxEM2h36U26I"
   },
   "source": [
    "#### Write a class to determine the size of the destination in the following manner:\n",
    "```\n",
    "size = FileSize(dest)\n",
    "print(size.v)\n",
    "\n",
    "[out]\n",
    "0.055 GB\n",
    "```\n",
    "\n"
   ]
  },
  {
   "cell_type": "code",
   "execution_count": null,
   "metadata": {
    "id": "Uxd3xYDjUiUh"
   },
   "outputs": [],
   "source": [
    "import numpy as np\n",
    "\n",
    "class FileSize:\n",
    "    def __init__(self, dest, u='MB'):\n",
    "\n",
    "        p               =   subprocess.run(['du', '-sb', dest], capture_output=True)\n",
    "        self.B          =   float(p.stdout.split(b'\\t')[0])\n",
    "        self.KB, self.MB, self.GB, self.TB, self.PB         =   self._find_size()\n",
    "\n",
    "        self.u          =   u\n",
    "        self.v          =   f\"{self.get_size(u)} {u}\"\n",
    "\n",
    "    def _find_size(self):\n",
    "        __KB = self.get_size('KB')\n",
    "        __MB = self.get_size('MB')\n",
    "        __GB = self.get_size('GB')\n",
    "        __TB = self.get_size('TB')\n",
    "        __PB = self.get_size('PB')\n",
    "        return __KB, __MB, __GB, __TB, __PB\n",
    "\n",
    "    def get_size(self, u):\n",
    "        if u        == 'KB' : val   =   1\n",
    "        elif u      == 'MB' : val   =   2\n",
    "        elif u      == 'GB' : val   =   3\n",
    "        elif u      == 'TB' : val   =   4\n",
    "        elif u      == 'PB' : val   =   5\n",
    "        self.u = u\n",
    "        return np.round((self.B / (1024)**val), 2)\n",
    "\n",
    "    def __str__(self):\n",
    "        return self.v\n"
   ]
  },
  {
   "cell_type": "markdown",
   "metadata": {
    "id": "HJWu_J7sVx1P"
   },
   "source": [
    "*Bonus* : In the above example the filesize is shown by using a default value of unit i.e., u='MB'. Modify the default initialization to u=None and return the filesize with suitable unit e.g., 55 MB when no unit is specified."
   ]
  },
  {
   "cell_type": "code",
   "execution_count": null,
   "metadata": {
    "colab": {
     "base_uri": "https://localhost:8080/"
    },
    "id": "fGfVnPaCVxAN",
    "outputId": "22d6b558-3694-4c20-a861-59531d9b0858"
   },
   "outputs": [
    {
     "name": "stdout",
     "output_type": "stream",
     "text": [
      "54.2 MB\n"
     ]
    }
   ],
   "source": [
    "size = FileSize('sample_data')\n",
    "print(size)"
   ]
  },
  {
   "cell_type": "code",
   "execution_count": null,
   "metadata": {
    "id": "IY6VWUf2df7f"
   },
   "outputs": [],
   "source": [
    "print(size)"
   ]
  },
  {
   "cell_type": "markdown",
   "metadata": {
    "id": "SzURd-KVLbJj"
   },
   "source": [
    "## Encapsulation"
   ]
  },
  {
   "cell_type": "code",
   "execution_count": null,
   "metadata": {
    "id": "_LCVGE19JEGt"
   },
   "outputs": [],
   "source": [
    "class Greetings:\n",
    "  def __init__(self, to):\n",
    "    self.to = to\n",
    "\n",
    "  def hi(self):\n",
    "    print(self.__hello())\n",
    "\n",
    "  def __hello(self):\n",
    "    return f\"hello {self.to}\"\n",
    "\n",
    "b = Greetings(to = 'Python')\n",
    "dir(b)"
   ]
  },
  {
   "cell_type": "markdown",
   "metadata": {
    "id": "cUXabGKCf9zA"
   },
   "source": [
    "#### Example 2: Sky Coordinate\n",
    "\n",
    "```\n",
    "c = SkyCoord(ra=24, dec=23, u='degree')\n",
    "print(c.deg)\n",
    "\n",
    "[out]\n",
    "<(24, 23) unit='degrees'>\n",
    "```"
   ]
  },
  {
   "cell_type": "code",
   "execution_count": null,
   "metadata": {
    "id": "pIEkATpJxDz5"
   },
   "outputs": [],
   "source": [
    "pi = 3.14\n",
    "\n",
    "class units:\n",
    "  def __init__(self, value=1, u='radian'):\n",
    "    \"\"\"\n",
    "    Input\n",
    "    ---\n",
    "\n",
    "    u   ---   (radian, degrees)\n",
    "    value     (float, int)\n",
    "\n",
    "    Attributes\n",
    "    ---\n",
    "\n",
    "    rad, deg, value, unit_type\n",
    "    \"\"\"\n",
    "    self.value          = value\n",
    "    self.unit_type      = u\n",
    "    self.rad            = self.to_radian()\n",
    "    self.deg            = self.to_degree()\n",
    "\n",
    "    self.hms            = self.to_hms()\n",
    "    self.dms            = self.to_dms()\n",
    "\n",
    "  def to_hms(self):\n",
    "    seconds     = self.deg * 240 # 1 deg = 4 minutes; seconds = 4 * 60\n",
    "    self.hour   = int(seconds / 3600)\n",
    "    self.min    = int((seconds % 3600 )/ 60 )\n",
    "    self.sec    = seconds % 60\n",
    "    return f\"{self.hour}h{self.min}m{self.sec:.2f}s\"\n",
    "\n",
    "  def to_dms(self):\n",
    "    dec_deg = self.deg\n",
    "    degrees = int(dec_deg)\n",
    "    minutes = (dec_deg - degrees) * 60\n",
    "    seconds = (dec_deg - degrees - minutes / 60) * 3600\n",
    "    return f\"{degrees}d{minutes}m{seconds}s\"\n",
    "\n",
    "\n",
    "  def to_radian(self):\n",
    "    if self.unit_type == 'radian':\n",
    "        return self.value\n",
    "    elif self.unit_type == 'degree':\n",
    "      return (pi/180)*self.value\n",
    "\n",
    "  def to_degree(self):\n",
    "      if self.unit_type == 'radian':\n",
    "          return (180/pi)*self.value\n",
    "      elif self.unit_type == 'degree':\n",
    "          return self.value\n",
    "\n",
    "  def __str__(self):\n",
    "    symbol = ''\n",
    "    if self.unit_type == 'degree':\n",
    "      symbol = '\\xb0'\n",
    "    return f\"{self.value}{symbol}\""
   ]
  },
  {
   "cell_type": "code",
   "execution_count": null,
   "metadata": {
    "colab": {
     "base_uri": "https://localhost:8080/"
    },
    "id": "G3mDH2OP__uW",
    "outputId": "8757e4e3-b3b2-4859-9959-69f191a45053"
   },
   "outputs": [
    {
     "name": "stdout",
     "output_type": "stream",
     "text": [
      "<(24°, 23°) unit=degree >\n"
     ]
    }
   ],
   "source": [
    "class SkyCoord:\n",
    "  def __init__(self, ra, dec, u='degree'):\n",
    "    self.ra   = units(ra, u)\n",
    "    self.dec  = units(dec, u)\n",
    "    self.unit = u\n",
    "    self.value = self.coordinates()\n",
    "\n",
    "  def coordinates(self):\n",
    "    return (self.ra.value, self.dec.value)\n",
    "\n",
    "  def to_hmsdms(self):\n",
    "    return f\"<({self.ra.hms}, {self.dec.dms}) unit='hmsdms' >\"\n",
    "\n",
    "  def __str__(self):\n",
    "    return f\"<({self.ra}, {self.dec}) unit={self.unit} >\"\n",
    "\n",
    "c = SkyCoord(ra=24, dec=23, u='degree')\n",
    "# u = units(24, u='degree')\n",
    "# print(u)\n",
    "\n",
    "print(c)"
   ]
  },
  {
   "cell_type": "code",
   "execution_count": null,
   "metadata": {
    "colab": {
     "base_uri": "https://localhost:8080/"
    },
    "id": "5o5kkeXmGWps",
    "outputId": "dd01dd66-e618-4250-a358-dac3be8000ca"
   },
   "outputs": [
    {
     "name": "stdout",
     "output_type": "stream",
     "text": [
      "<(24°, 23°) unit=degree >\n",
      "<(1h36m0.00s, 23d0m0.0s) unit='hmsdms' >\n"
     ]
    }
   ],
   "source": [
    "u2 = units(24, u='degree')\n",
    "u2.hms\n",
    "\n",
    "c2 = SkyCoord(ra=24,dec=23, u='degree')\n",
    "print(c2)\n",
    "print(c2.to_hmsdms())"
   ]
  },
  {
   "cell_type": "code",
   "execution_count": null,
   "metadata": {
    "id": "grBJ47xC9LEG"
   },
   "outputs": [],
   "source": [
    "class Fraction:\n",
    "  def __init__(self, num, den):\n",
    "    # your code here\n",
    "    pass"
   ]
  },
  {
   "cell_type": "markdown",
   "metadata": {
    "id": "nqRLrXB-5cjS"
   },
   "source": [
    "## Polymorphism"
   ]
  },
  {
   "cell_type": "code",
   "execution_count": null,
   "metadata": {
    "id": "6osu_77GdTEP"
   },
   "outputs": [],
   "source": [
    "#  len() can be used with list, str or any object with __str__ defined\n",
    "\n",
    "print(len([1,3,7]))\n",
    "print(len('Strings too'))\n",
    "print(len(range(1,9)))"
   ]
  },
  {
   "cell_type": "code",
   "execution_count": null,
   "metadata": {
    "id": "kc92rRqk2-cY"
   },
   "outputs": [],
   "source": [
    "# Write a program for the following behavior:\n",
    "# l = Listings(1)\n",
    "# l+2\n",
    "# [1, 2]\n",
    "\n",
    "from collections.abc import Sequence\n",
    "\n",
    "from multipledispatch import dispatch\n",
    "\n",
    "class Listings:\n",
    "  def __init__(self, *args):\n",
    "    self.value = args\n",
    "\n",
    "  @dispatch(Sequence, (str,int))\n",
    "  def conc(a, b):\n",
    "    return list(a)+[b]\n",
    "\n",
    "  def __add__(self, other):\n",
    "    return self.conc(self.value, other)"
   ]
  },
  {
   "cell_type": "code",
   "execution_count": null,
   "metadata": {
    "id": "hFxAKXsk3jp7"
   },
   "outputs": [],
   "source": [
    "l = Listings(1)\n",
    "l +2"
   ]
  },
  {
   "cell_type": "markdown",
   "metadata": {
    "id": "5Mp_u8r-5bhR"
   },
   "source": [
    "## Inheritence"
   ]
  },
  {
   "cell_type": "code",
   "execution_count": null,
   "metadata": {
    "id": "Y79WBIb76d2A"
   },
   "outputs": [],
   "source": [
    "class DetailedFileSize(FileSize):   # class ChildClass(Parent) <-- This defines a child/sub-class of the Parent class\n",
    "                                    # inheriting property of the Parent class\n",
    "    def __init__(self, dest, u='MB'):\n",
    "        super().__init__(dest, u)\n",
    "        self.KB, self.MB, self.GB, self.TB, self.PB = self._find_size()\n",
    "\n",
    "    def _find_size(self):\n",
    "        return (\n",
    "            self.get_size('KB'),    # calling self.get_size() from the Parent class directly with the reference to instance \"self\"\n",
    "            self.get_size('MB'),\n",
    "            self.get_size('GB'),\n",
    "            self.get_size('TB'),\n",
    "            self.get_size('PB')\n",
    "        )\n",
    "\n",
    "    def print_details(self):\n",
    "        print(f\"KB: {self.KB} KB\")\n",
    "        print(f\"MB: {self.MB} MB\")\n",
    "        print(f\"GB: {self.GB} GB\")\n",
    "        print(f\"TB: {self.TB} TB\")\n",
    "        print(f\"PB: {self.PB} PB\")\n",
    "\n",
    "DetailedFileSize('sample_data').print_details()"
   ]
  },
  {
   "cell_type": "markdown",
   "metadata": {
    "id": "hAuOinZsK8T-"
   },
   "source": [
    "#### Problem :\n",
    "- Q1 : add methods to create `c.to_hmsdms()` in `SkyCoord` to return the following:\n",
    "\n",
    "```python\n",
    "c = SkyCoord(24,23)\n",
    "c.to_hmsdms()\n",
    "\n",
    "[out]\n",
    "1h36m0.00s, +23d0m0.00s\n",
    "```\n",
    "\n",
    "-  Q2 : Create a new class called Fraction with attributes `num` as numerator `den` as denominator.\n",
    "achieve the following behaviours:\n",
    "\n",
    "```python\n",
    "fract1 = Fraction(1,2)\n",
    "print(fract1)\n",
    "\n",
    "[out]\n",
    "1/2\n",
    "```\n",
    "\n",
    "```python\n",
    "fract2 = Fraction(2/10)\n",
    "fract3 = fract2 + fract1\n",
    "print(fract3)\n",
    "\n",
    "[out]\n",
    "7/10\n",
    "```\n",
    "\n",
    "- Q3 : Similarly Complete operations for multiplication, subtraction, division\n",
    "\n",
    "\n",
    "HINT: Make use of the gratest common divisor\n",
    "\n",
    "```\n",
    "def gcd(n, d):\n",
    "    while d != 0:\n",
    "        n, d = d, n % d\n",
    "    return abs(n)\n",
    "\n",
    "```\n",
    "\n",
    "PS : Use only the functionalities we learned from the session today."
   ]
  }
 ],
 "metadata": {
  "colab": {
   "provenance": []
  },
  "kernelspec": {
   "display_name": "Python 3 (ipykernel)",
   "language": "python",
   "name": "python3"
  },
  "language_info": {
   "codemirror_mode": {
    "name": "ipython",
    "version": 3
   },
   "file_extension": ".py",
   "mimetype": "text/x-python",
   "name": "python",
   "nbconvert_exporter": "python",
   "pygments_lexer": "ipython3",
   "version": "3.10.9"
  }
 },
 "nbformat": 4,
 "nbformat_minor": 1
}
